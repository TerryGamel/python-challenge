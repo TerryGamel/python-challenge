{
 "cells": [
  {
   "cell_type": "code",
   "execution_count": 1,
   "id": "66b19d2f",
   "metadata": {},
   "outputs": [],
   "source": [
    "import os\n",
    "import csv\n",
    "\n",
    "budgetcsv = os.path.join(\"Resources\",\"budget_data.csv\")\n",
    "outputfile = os.path.join(\"analysis\",\"output_data.txt\")"
   ]
  },
  {
   "cell_type": "code",
   "execution_count": 2,
   "id": "aba096d4",
   "metadata": {},
   "outputs": [],
   "source": [
    "total_months = 0\n",
    "total_profit = 0\n",
    "change_in_profits = []\n",
    "last_month = 0\n",
    "this_month = 0\n",
    "\n",
    "with open(budgetcsv) as csvfile:\n",
    "    csvreader = csv.reader(csvfile, delimiter=\",\")\n",
    "    csv_header = next(csvreader)\n",
    "    for row in csvreader:\n",
    "        last_month = this_month\n",
    "        #I opted for this way of calculating total months rather than doing another for declaration because I figure\n",
    "        #I'm already looping through the file once, I don't need to do it multiple times.how \n",
    "        total_months += 1\n",
    "        this_month = int(row[1])\n",
    "        total_profit += this_month\n",
    "        if total_months > 1:\n",
    "            change_in_profits.append((this_month - last_month))\n",
    "\n",
    "#borrowed the float syntax from https://stackoverflow.com/questions/455612/limiting-floats-to-two-decimal-points\n",
    "average_change = float(\"{:.2f}\".format(sum(change_in_profits) / len(change_in_profits)))\n",
    "\n",
    "max_change = max(change_in_profits)\n",
    "min_change = min(change_in_profits)"
   ]
  },
  {
   "cell_type": "code",
   "execution_count": 3,
   "id": "093415ce",
   "metadata": {},
   "outputs": [
    {
     "name": "stdout",
     "output_type": "stream",
     "text": [
      "Financial Analysis\n",
      "\n",
      "----------------------------\n",
      "\n",
      "Total Months: 86\n",
      "\n",
      "Total: $22564198\n",
      "\n",
      "Average Change: $-8311.11\n",
      "\n",
      "Greatest Increase in Profits: ($1862002)\n",
      "\n",
      "Greatest Decrease in Profits: ($-1825558)\n"
     ]
    }
   ],
   "source": [
    "output_string = []\n",
    "\n",
    "output_string.append(f\"Financial Analysis\")\n",
    "output_string.append(\"\")\n",
    "output_string.append(\"----------------------------\")\n",
    "output_string.append(\"\")\n",
    "output_string.append(f\"Total Months: {total_months}\")\n",
    "output_string.append(\"\")\n",
    "output_string.append(f\"Total: ${total_profit}\")\n",
    "output_string.append(\"\")\n",
    "output_string.append(f\"Average Change: ${average_change}\")\n",
    "output_string.append(\"\")\n",
    "output_string.append(f\"Greatest Increase in Profits: (${max_change})\")\n",
    "output_string.append(\"\")\n",
    "output_string.append(f\"Greatest Decrease in Profits: (${min_change})\")\n",
    "\n",
    "#borrowed file open and f.write from https://www.w3schools.com/python/python_file_write.asp\n",
    "#borrowed \"\\n\" from https://stackoverflow.com/questions/2918362/writing-string-to-a-file-on-a-new-line-every-time\n",
    "f = open(outputfile, \"w\")\n",
    "for o in output_string:\n",
    "    print(o)\n",
    "    f.write(o + \"\\n\")\n",
    "    \n",
    "f.close()\n"
   ]
  },
  {
   "cell_type": "code",
   "execution_count": null,
   "id": "33bb587b",
   "metadata": {},
   "outputs": [],
   "source": []
  }
 ],
 "metadata": {
  "kernelspec": {
   "display_name": "Python 3 (ipykernel)",
   "language": "python",
   "name": "python3"
  },
  "language_info": {
   "codemirror_mode": {
    "name": "ipython",
    "version": 3
   },
   "file_extension": ".py",
   "mimetype": "text/x-python",
   "name": "python",
   "nbconvert_exporter": "python",
   "pygments_lexer": "ipython3",
   "version": "3.10.13"
  }
 },
 "nbformat": 4,
 "nbformat_minor": 5
}
